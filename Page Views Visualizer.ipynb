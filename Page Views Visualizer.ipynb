{
 "cells": [
  {
   "cell_type": "code",
   "execution_count": 1,
   "id": "0f4fe543",
   "metadata": {},
   "outputs": [],
   "source": [
    "import matplotlib.pyplot as plt\n",
    "import pandas as pd\n",
    "import seaborn as sns\n",
    "import numpy as np\n",
    "from pandas.plotting import register_matplotlib_converters\n",
    "register_matplotlib_converters()"
   ]
  },
  {
   "cell_type": "code",
   "execution_count": 2,
   "id": "cf7a638e",
   "metadata": {},
   "outputs": [],
   "source": [
    "# Import data (Make sure to parse dates. Consider setting index column to 'date'.)\n",
    "df = pd.read_csv('fcc-forum-pageviews.csv')"
   ]
  },
  {
   "cell_type": "code",
   "execution_count": 3,
   "id": "53154422",
   "metadata": {
    "scrolled": false
   },
   "outputs": [
    {
     "data": {
      "text/html": [
       "<div>\n",
       "<style scoped>\n",
       "    .dataframe tbody tr th:only-of-type {\n",
       "        vertical-align: middle;\n",
       "    }\n",
       "\n",
       "    .dataframe tbody tr th {\n",
       "        vertical-align: top;\n",
       "    }\n",
       "\n",
       "    .dataframe thead th {\n",
       "        text-align: right;\n",
       "    }\n",
       "</style>\n",
       "<table border=\"1\" class=\"dataframe\">\n",
       "  <thead>\n",
       "    <tr style=\"text-align: right;\">\n",
       "      <th></th>\n",
       "      <th>value</th>\n",
       "    </tr>\n",
       "  </thead>\n",
       "  <tbody>\n",
       "    <tr>\n",
       "      <th>count</th>\n",
       "      <td>1.304000e+03</td>\n",
       "    </tr>\n",
       "    <tr>\n",
       "      <th>mean</th>\n",
       "      <td>6.722068e+04</td>\n",
       "    </tr>\n",
       "    <tr>\n",
       "      <th>std</th>\n",
       "      <td>5.933964e+04</td>\n",
       "    </tr>\n",
       "    <tr>\n",
       "      <th>min</th>\n",
       "      <td>1.201000e+03</td>\n",
       "    </tr>\n",
       "    <tr>\n",
       "      <th>25%</th>\n",
       "      <td>3.575775e+04</td>\n",
       "    </tr>\n",
       "    <tr>\n",
       "      <th>50%</th>\n",
       "      <td>5.719750e+04</td>\n",
       "    </tr>\n",
       "    <tr>\n",
       "      <th>75%</th>\n",
       "      <td>8.388300e+04</td>\n",
       "    </tr>\n",
       "    <tr>\n",
       "      <th>max</th>\n",
       "      <td>1.173655e+06</td>\n",
       "    </tr>\n",
       "  </tbody>\n",
       "</table>\n",
       "</div>"
      ],
      "text/plain": [
       "              value\n",
       "count  1.304000e+03\n",
       "mean   6.722068e+04\n",
       "std    5.933964e+04\n",
       "min    1.201000e+03\n",
       "25%    3.575775e+04\n",
       "50%    5.719750e+04\n",
       "75%    8.388300e+04\n",
       "max    1.173655e+06"
      ]
     },
     "execution_count": 3,
     "metadata": {},
     "output_type": "execute_result"
    }
   ],
   "source": [
    "df.describe()"
   ]
  },
  {
   "cell_type": "code",
   "execution_count": 4,
   "id": "1f883984",
   "metadata": {},
   "outputs": [
    {
     "data": {
      "text/html": [
       "<div>\n",
       "<style scoped>\n",
       "    .dataframe tbody tr th:only-of-type {\n",
       "        vertical-align: middle;\n",
       "    }\n",
       "\n",
       "    .dataframe tbody tr th {\n",
       "        vertical-align: top;\n",
       "    }\n",
       "\n",
       "    .dataframe thead th {\n",
       "        text-align: right;\n",
       "    }\n",
       "</style>\n",
       "<table border=\"1\" class=\"dataframe\">\n",
       "  <thead>\n",
       "    <tr style=\"text-align: right;\">\n",
       "      <th></th>\n",
       "      <th>value</th>\n",
       "    </tr>\n",
       "    <tr>\n",
       "      <th>date</th>\n",
       "      <th></th>\n",
       "    </tr>\n",
       "  </thead>\n",
       "  <tbody>\n",
       "    <tr>\n",
       "      <th>2016-05-09</th>\n",
       "      <td>1201</td>\n",
       "    </tr>\n",
       "    <tr>\n",
       "      <th>2016-05-10</th>\n",
       "      <td>2329</td>\n",
       "    </tr>\n",
       "    <tr>\n",
       "      <th>2016-05-11</th>\n",
       "      <td>1716</td>\n",
       "    </tr>\n",
       "    <tr>\n",
       "      <th>2016-05-12</th>\n",
       "      <td>10539</td>\n",
       "    </tr>\n",
       "    <tr>\n",
       "      <th>2016-05-13</th>\n",
       "      <td>6933</td>\n",
       "    </tr>\n",
       "    <tr>\n",
       "      <th>...</th>\n",
       "      <td>...</td>\n",
       "    </tr>\n",
       "    <tr>\n",
       "      <th>2019-11-29</th>\n",
       "      <td>171584</td>\n",
       "    </tr>\n",
       "    <tr>\n",
       "      <th>2019-11-30</th>\n",
       "      <td>141161</td>\n",
       "    </tr>\n",
       "    <tr>\n",
       "      <th>2019-12-01</th>\n",
       "      <td>142918</td>\n",
       "    </tr>\n",
       "    <tr>\n",
       "      <th>2019-12-02</th>\n",
       "      <td>220144</td>\n",
       "    </tr>\n",
       "    <tr>\n",
       "      <th>2019-12-03</th>\n",
       "      <td>158549</td>\n",
       "    </tr>\n",
       "  </tbody>\n",
       "</table>\n",
       "<p>1304 rows × 1 columns</p>\n",
       "</div>"
      ],
      "text/plain": [
       "             value\n",
       "date              \n",
       "2016-05-09    1201\n",
       "2016-05-10    2329\n",
       "2016-05-11    1716\n",
       "2016-05-12   10539\n",
       "2016-05-13    6933\n",
       "...            ...\n",
       "2019-11-29  171584\n",
       "2019-11-30  141161\n",
       "2019-12-01  142918\n",
       "2019-12-02  220144\n",
       "2019-12-03  158549\n",
       "\n",
       "[1304 rows x 1 columns]"
      ]
     },
     "execution_count": 4,
     "metadata": {},
     "output_type": "execute_result"
    }
   ],
   "source": [
    "df=df.set_index('date')\n",
    "df"
   ]
  },
  {
   "cell_type": "code",
   "execution_count": 5,
   "id": "2b798bae",
   "metadata": {},
   "outputs": [],
   "source": [
    "df.index=pd.to_datetime(df.index)"
   ]
  },
  {
   "cell_type": "code",
   "execution_count": 6,
   "id": "cd299338",
   "metadata": {},
   "outputs": [],
   "source": [
    "df=df[(df['value']>=df['value'].quantile(0.025))\n",
    "      &(df['value']<=df['value'].quantile(0.975))]"
   ]
  },
  {
   "cell_type": "code",
   "execution_count": 7,
   "id": "ecf5c58c",
   "metadata": {},
   "outputs": [
    {
     "data": {
      "text/html": [
       "<div>\n",
       "<style scoped>\n",
       "    .dataframe tbody tr th:only-of-type {\n",
       "        vertical-align: middle;\n",
       "    }\n",
       "\n",
       "    .dataframe tbody tr th {\n",
       "        vertical-align: top;\n",
       "    }\n",
       "\n",
       "    .dataframe thead th {\n",
       "        text-align: right;\n",
       "    }\n",
       "</style>\n",
       "<table border=\"1\" class=\"dataframe\">\n",
       "  <thead>\n",
       "    <tr style=\"text-align: right;\">\n",
       "      <th></th>\n",
       "      <th>value</th>\n",
       "    </tr>\n",
       "  </thead>\n",
       "  <tbody>\n",
       "    <tr>\n",
       "      <th>count</th>\n",
       "      <td>1238.000000</td>\n",
       "    </tr>\n",
       "    <tr>\n",
       "      <th>mean</th>\n",
       "      <td>63060.147819</td>\n",
       "    </tr>\n",
       "    <tr>\n",
       "      <th>std</th>\n",
       "      <td>31674.626598</td>\n",
       "    </tr>\n",
       "    <tr>\n",
       "      <th>min</th>\n",
       "      <td>18060.000000</td>\n",
       "    </tr>\n",
       "    <tr>\n",
       "      <th>25%</th>\n",
       "      <td>37244.250000</td>\n",
       "    </tr>\n",
       "    <tr>\n",
       "      <th>50%</th>\n",
       "      <td>57197.500000</td>\n",
       "    </tr>\n",
       "    <tr>\n",
       "      <th>75%</th>\n",
       "      <td>81646.500000</td>\n",
       "    </tr>\n",
       "    <tr>\n",
       "      <th>max</th>\n",
       "      <td>177588.000000</td>\n",
       "    </tr>\n",
       "  </tbody>\n",
       "</table>\n",
       "</div>"
      ],
      "text/plain": [
       "               value\n",
       "count    1238.000000\n",
       "mean    63060.147819\n",
       "std     31674.626598\n",
       "min     18060.000000\n",
       "25%     37244.250000\n",
       "50%     57197.500000\n",
       "75%     81646.500000\n",
       "max    177588.000000"
      ]
     },
     "execution_count": 7,
     "metadata": {},
     "output_type": "execute_result"
    }
   ],
   "source": [
    "df.describe()"
   ]
  },
  {
   "cell_type": "code",
   "execution_count": 8,
   "id": "06185bbf",
   "metadata": {},
   "outputs": [],
   "source": [
    "# rename={'date': 'Date',\n",
    "#        'value': 'Page Views'}\n",
    "# df_new.rename(columns = rename, inplace=True)"
   ]
  },
  {
   "cell_type": "code",
   "execution_count": 9,
   "id": "0cb6f070",
   "metadata": {},
   "outputs": [],
   "source": [
    "# fig, ax = plt.subplots(figsize=(10,5))\n",
    "# ax.plot(df.date,df.value, data=df)"
   ]
  },
  {
   "cell_type": "code",
   "execution_count": 10,
   "id": "e71b8191",
   "metadata": {},
   "outputs": [
    {
     "data": {
      "image/png": "[encoded data removed]",
      "text/plain": [
       "<Figure size 1080x360 with 1 Axes>"
      ]
     },
     "metadata": {
      "needs_background": "light"
     },
     "output_type": "display_data"
    }
   ],
   "source": [
    "fig, ax = plt.subplots()\n",
    "# fig=plt(figure=(10,5))\n",
    "fig.set_size_inches(15, 5, forward=True)"
   ]
  },
  {
   "cell_type": "code",
   "execution_count": 11,
   "id": "9fd6c0c4",
   "metadata": {},
   "outputs": [
    {
     "data": {
      "image/png": "[encoded data removed]",
      "text/plain": [
       "<Figure size 1080x360 with 1 Axes>"
      ]
     },
     "metadata": {
      "needs_background": "light"
     },
     "output_type": "display_data"
    }
   ],
   "source": [
    "fig, ax = plt.subplots()\n",
    "plt.plot(df.index,df.value,'r')\n",
    "# plt.xticks(df_new.Date[::150], rotation=90)\n",
    "plt.title(\"Daily freeCodeCamp Forum Page Views 5/2016-12/2019\")\n",
    "plt.xlabel('Date')\n",
    "plt.ylabel('Page Views')\n",
    "fig.set_size_inches(15, 5, forward=True)"
   ]
  },
  {
   "cell_type": "code",
   "execution_count": 12,
   "id": "4d9ace00",
   "metadata": {},
   "outputs": [
    {
     "data": {
      "text/plain": [
       "<AxesSubplot:xlabel='date', ylabel='value'>"
      ]
     },
     "execution_count": 12,
     "metadata": {},
     "output_type": "execute_result"
    },
    {
     "data": {
      "image/png": "[encoded data removed]",
      "text/plain": [
       "<Figure size 432x288 with 1 Axes>"
      ]
     },
     "metadata": {
      "needs_background": "light"
     },
     "output_type": "display_data"
    }
   ],
   "source": [
    "sns.lineplot(x='date',y='value', color='r', data=df)\n",
    "#              title=\"Daily freeCodeCamp Forum Page Views 5/2016-12/2019\" ,\n",
    "#              ylabel='Page Views',\n",
    "                 "
   ]
  },
  {
   "cell_type": "markdown",
   "id": "ef3aa1d5",
   "metadata": {},
   "source": [
    "# barplot "
   ]
  },
  {
   "cell_type": "code",
   "execution_count": 13,
   "id": "40f209f1",
   "metadata": {},
   "outputs": [
    {
     "data": {
      "text/html": [
       "<div>\n",
       "<style scoped>\n",
       "    .dataframe tbody tr th:only-of-type {\n",
       "        vertical-align: middle;\n",
       "    }\n",
       "\n",
       "    .dataframe tbody tr th {\n",
       "        vertical-align: top;\n",
       "    }\n",
       "\n",
       "    .dataframe thead th {\n",
       "        text-align: right;\n",
       "    }\n",
       "</style>\n",
       "<table border=\"1\" class=\"dataframe\">\n",
       "  <thead>\n",
       "    <tr style=\"text-align: right;\">\n",
       "      <th></th>\n",
       "      <th>value</th>\n",
       "    </tr>\n",
       "    <tr>\n",
       "      <th>date</th>\n",
       "      <th></th>\n",
       "    </tr>\n",
       "  </thead>\n",
       "  <tbody>\n",
       "    <tr>\n",
       "      <th>2016-05-19</th>\n",
       "      <td>19736</td>\n",
       "    </tr>\n",
       "    <tr>\n",
       "      <th>2016-05-26</th>\n",
       "      <td>18060</td>\n",
       "    </tr>\n",
       "    <tr>\n",
       "      <th>2016-05-27</th>\n",
       "      <td>19997</td>\n",
       "    </tr>\n",
       "    <tr>\n",
       "      <th>2016-05-28</th>\n",
       "      <td>19044</td>\n",
       "    </tr>\n",
       "    <tr>\n",
       "      <th>2016-05-29</th>\n",
       "      <td>20325</td>\n",
       "    </tr>\n",
       "  </tbody>\n",
       "</table>\n",
       "</div>"
      ],
      "text/plain": [
       "            value\n",
       "date             \n",
       "2016-05-19  19736\n",
       "2016-05-26  18060\n",
       "2016-05-27  19997\n",
       "2016-05-28  19044\n",
       "2016-05-29  20325"
      ]
     },
     "execution_count": 13,
     "metadata": {},
     "output_type": "execute_result"
    }
   ],
   "source": [
    "dfcp=df.copy()\n",
    "dfcp.head()"
   ]
  },
  {
   "cell_type": "code",
   "execution_count": 14,
   "id": "3c595d04",
   "metadata": {},
   "outputs": [],
   "source": [
    "# plt.bar(\"date\",'value',data= dfcp ,align='center')\n",
    "# plt.xticks(rotation=45)"
   ]
  },
  {
   "cell_type": "code",
   "execution_count": 15,
   "id": "19dee3de",
   "metadata": {},
   "outputs": [],
   "source": [
    "# sns.set_theme(style=\"whitegrid\")\n",
    "# # tips = sns.load_dataset(\"tips\")\n",
    "# ax = sns.barplot(\"date\",'value',data= df)\n",
    "\n",
    "# #                     ['2016-7','2017-1','2017,7','2018-1','2018-7','2019-1','2019-7','2020-1']\n",
    "\n",
    "# ax.set_xticks(np.arange(8)) \n",
    "# ax.set_xticklabels(['2016-7','2017-1','2017,7','2018-1','2018-7','2019-1','2019-7','2020-1'])"
   ]
  },
  {
   "cell_type": "code",
   "execution_count": 16,
   "id": "02215001",
   "metadata": {
    "scrolled": true
   },
   "outputs": [
    {
     "data": {
      "text/html": [
       "<div>\n",
       "<style scoped>\n",
       "    .dataframe tbody tr th:only-of-type {\n",
       "        vertical-align: middle;\n",
       "    }\n",
       "\n",
       "    .dataframe tbody tr th {\n",
       "        vertical-align: top;\n",
       "    }\n",
       "\n",
       "    .dataframe thead th {\n",
       "        text-align: right;\n",
       "    }\n",
       "</style>\n",
       "<table border=\"1\" class=\"dataframe\">\n",
       "  <thead>\n",
       "    <tr style=\"text-align: right;\">\n",
       "      <th></th>\n",
       "      <th>year</th>\n",
       "      <th>month</th>\n",
       "      <th>value</th>\n",
       "    </tr>\n",
       "  </thead>\n",
       "  <tbody>\n",
       "    <tr>\n",
       "      <th>0</th>\n",
       "      <td>2016</td>\n",
       "      <td>5</td>\n",
       "      <td>19432.400000</td>\n",
       "    </tr>\n",
       "    <tr>\n",
       "      <th>1</th>\n",
       "      <td>2016</td>\n",
       "      <td>6</td>\n",
       "      <td>21875.105263</td>\n",
       "    </tr>\n",
       "    <tr>\n",
       "      <th>2</th>\n",
       "      <td>2016</td>\n",
       "      <td>7</td>\n",
       "      <td>24109.678571</td>\n",
       "    </tr>\n",
       "    <tr>\n",
       "      <th>3</th>\n",
       "      <td>2016</td>\n",
       "      <td>8</td>\n",
       "      <td>31049.193548</td>\n",
       "    </tr>\n",
       "    <tr>\n",
       "      <th>4</th>\n",
       "      <td>2016</td>\n",
       "      <td>9</td>\n",
       "      <td>41476.866667</td>\n",
       "    </tr>\n",
       "  </tbody>\n",
       "</table>\n",
       "</div>"
      ],
      "text/plain": [
       "   year  month         value\n",
       "0  2016      5  19432.400000\n",
       "1  2016      6  21875.105263\n",
       "2  2016      7  24109.678571\n",
       "3  2016      8  31049.193548\n",
       "4  2016      9  41476.866667"
      ]
     },
     "execution_count": 16,
     "metadata": {},
     "output_type": "execute_result"
    }
   ],
   "source": [
    "dfcp['year']=dfcp.index.year\n",
    "dfcp['month']=dfcp.index.month\n",
    "caterog = dfcp.groupby([df.index.year,\n",
    "                        df.index.month],)['value'].agg(np.mean).rename_axis(['year','month'])\n",
    "caterog = caterog.reset_index()\n",
    "caterog.head()"
   ]
  },
  {
   "cell_type": "code",
   "execution_count": 17,
   "id": "c8c60ee2",
   "metadata": {
    "scrolled": true
   },
   "outputs": [
    {
     "data": {
      "text/html": [
       "<div>\n",
       "<style scoped>\n",
       "    .dataframe tbody tr th:only-of-type {\n",
       "        vertical-align: middle;\n",
       "    }\n",
       "\n",
       "    .dataframe tbody tr th {\n",
       "        vertical-align: top;\n",
       "    }\n",
       "\n",
       "    .dataframe thead th {\n",
       "        text-align: right;\n",
       "    }\n",
       "</style>\n",
       "<table border=\"1\" class=\"dataframe\">\n",
       "  <thead>\n",
       "    <tr style=\"text-align: right;\">\n",
       "      <th>month</th>\n",
       "      <th>1</th>\n",
       "      <th>2</th>\n",
       "      <th>3</th>\n",
       "      <th>4</th>\n",
       "      <th>5</th>\n",
       "      <th>6</th>\n",
       "      <th>7</th>\n",
       "      <th>8</th>\n",
       "      <th>9</th>\n",
       "      <th>10</th>\n",
       "      <th>11</th>\n",
       "      <th>12</th>\n",
       "    </tr>\n",
       "    <tr>\n",
       "      <th>year</th>\n",
       "      <th></th>\n",
       "      <th></th>\n",
       "      <th></th>\n",
       "      <th></th>\n",
       "      <th></th>\n",
       "      <th></th>\n",
       "      <th></th>\n",
       "      <th></th>\n",
       "      <th></th>\n",
       "      <th></th>\n",
       "      <th></th>\n",
       "      <th></th>\n",
       "    </tr>\n",
       "  </thead>\n",
       "  <tbody>\n",
       "    <tr>\n",
       "      <th>2016</th>\n",
       "      <td>NaN</td>\n",
       "      <td>NaN</td>\n",
       "      <td>NaN</td>\n",
       "      <td>NaN</td>\n",
       "      <td>19432.400000</td>\n",
       "      <td>21875.105263</td>\n",
       "      <td>24109.678571</td>\n",
       "      <td>31049.193548</td>\n",
       "      <td>41476.866667</td>\n",
       "      <td>27398.322581</td>\n",
       "      <td>40448.633333</td>\n",
       "      <td>27832.419355</td>\n",
       "    </tr>\n",
       "    <tr>\n",
       "      <th>2017</th>\n",
       "      <td>32785.161290</td>\n",
       "      <td>31113.071429</td>\n",
       "      <td>29369.096774</td>\n",
       "      <td>30878.733333</td>\n",
       "      <td>34244.290323</td>\n",
       "      <td>43577.500000</td>\n",
       "      <td>65806.838710</td>\n",
       "      <td>47712.451613</td>\n",
       "      <td>47376.800000</td>\n",
       "      <td>47438.709677</td>\n",
       "      <td>57701.566667</td>\n",
       "      <td>48420.580645</td>\n",
       "    </tr>\n",
       "    <tr>\n",
       "      <th>2018</th>\n",
       "      <td>58580.096774</td>\n",
       "      <td>65679.000000</td>\n",
       "      <td>62693.774194</td>\n",
       "      <td>62350.833333</td>\n",
       "      <td>56562.870968</td>\n",
       "      <td>70117.000000</td>\n",
       "      <td>63591.064516</td>\n",
       "      <td>62831.612903</td>\n",
       "      <td>65941.733333</td>\n",
       "      <td>111378.142857</td>\n",
       "      <td>78688.333333</td>\n",
       "      <td>80047.483871</td>\n",
       "    </tr>\n",
       "    <tr>\n",
       "      <th>2019</th>\n",
       "      <td>102056.516129</td>\n",
       "      <td>105968.357143</td>\n",
       "      <td>91214.483871</td>\n",
       "      <td>89368.433333</td>\n",
       "      <td>91439.903226</td>\n",
       "      <td>90435.642857</td>\n",
       "      <td>97236.566667</td>\n",
       "      <td>102717.310345</td>\n",
       "      <td>97268.833333</td>\n",
       "      <td>122802.272727</td>\n",
       "      <td>143166.428571</td>\n",
       "      <td>150733.500000</td>\n",
       "    </tr>\n",
       "  </tbody>\n",
       "</table>\n",
       "</div>"
      ],
      "text/plain": [
       "month             1              2             3             4             5   \\\n",
       "year                                                                            \n",
       "2016             NaN            NaN           NaN           NaN  19432.400000   \n",
       "2017    32785.161290   31113.071429  29369.096774  30878.733333  34244.290323   \n",
       "2018    58580.096774   65679.000000  62693.774194  62350.833333  56562.870968   \n",
       "2019   102056.516129  105968.357143  91214.483871  89368.433333  91439.903226   \n",
       "\n",
       "month            6             7              8             9              10  \\\n",
       "year                                                                            \n",
       "2016   21875.105263  24109.678571   31049.193548  41476.866667   27398.322581   \n",
       "2017   43577.500000  65806.838710   47712.451613  47376.800000   47438.709677   \n",
       "2018   70117.000000  63591.064516   62831.612903  65941.733333  111378.142857   \n",
       "2019   90435.642857  97236.566667  102717.310345  97268.833333  122802.272727   \n",
       "\n",
       "month             11             12  \n",
       "year                                 \n",
       "2016    40448.633333   27832.419355  \n",
       "2017    57701.566667   48420.580645  \n",
       "2018    78688.333333   80047.483871  \n",
       "2019   143166.428571  150733.500000  "
      ]
     },
     "execution_count": 17,
     "metadata": {},
     "output_type": "execute_result"
    }
   ],
   "source": [
    "df_pivot = pd.pivot_table(\n",
    "caterog,\n",
    "values='value',\n",
    "index='year',\n",
    "columns='month')\n",
    "df_pivot"
   ]
  },
  {
   "cell_type": "code",
   "execution_count": 18,
   "id": "7eed564e",
   "metadata": {},
   "outputs": [
    {
     "data": {
      "image/png": "[encoded data removed]",
      "text/plain": [
       "<Figure size 432x288 with 1 Axes>"
      ]
     },
     "metadata": {
      "needs_background": "light"
     },
     "output_type": "display_data"
    }
   ],
   "source": [
    "ax= df_pivot.plot(kind='bar')"
   ]
  },
  {
   "cell_type": "code",
   "execution_count": 19,
   "id": "a27bf95d",
   "metadata": {},
   "outputs": [
    {
     "data": {
      "text/plain": [
       "<matplotlib.legend.Legend at 0x10928dceb20>"
      ]
     },
     "execution_count": 19,
     "metadata": {},
     "output_type": "execute_result"
    },
    {
     "data": {
      "image/png": "[encoded data removed]",
      "text/plain": [
       "<Figure size 432x432 with 1 Axes>"
      ]
     },
     "metadata": {
      "needs_background": "light"
     },
     "output_type": "display_data"
    }
   ],
   "source": [
    "ax= df_pivot.plot(kind='bar')\n",
    "fig =ax.get_figure()\n",
    "fig.set_size_inches(6,6)\n",
    "ax.set_xlabel(\"Years\")\n",
    "ax.set_ylabel(\"Average Page Views\")\n",
    "plt.legend(['January','February','March',\n",
    "            'April','May','June','July',\n",
    "            'August','September','October',\n",
    "           'November','December'])"
   ]
  },
  {
   "cell_type": "code",
   "execution_count": null,
   "id": "78f06b6c",
   "metadata": {},
   "outputs": [],
   "source": []
  },
  {
   "cell_type": "code",
   "execution_count": null,
   "id": "7832503f",
   "metadata": {},
   "outputs": [],
   "source": []
  },
  {
   "cell_type": "markdown",
   "id": "8516dbc3",
   "metadata": {},
   "source": [
    "# box plot"
   ]
  },
  {
   "cell_type": "code",
   "execution_count": 20,
   "id": "e06872ef",
   "metadata": {},
   "outputs": [],
   "source": [
    "# g=plt.boxplot(\"date\",'value',data=df)\n",
    "# g.xticks([0, 1, 2], ['January', 'February', 'March'],rotation=20)\n"
   ]
  },
  {
   "cell_type": "code",
   "execution_count": 21,
   "id": "34db243e",
   "metadata": {},
   "outputs": [],
   "source": [
    "df_box = df.copy()\n",
    "df_box.reset_index(inplace=True)\n",
    "df_box['year'] = [d.year for d in df_box.date]\n",
    "df_box['month'] = [d.strftime('%b') for d in df_box.date]"
   ]
  },
  {
   "cell_type": "code",
   "execution_count": 50,
   "id": "0ec0536e",
   "metadata": {},
   "outputs": [
    {
     "data": {
      "text/html": [
       "<div>\n",
       "<style scoped>\n",
       "    .dataframe tbody tr th:only-of-type {\n",
       "        vertical-align: middle;\n",
       "    }\n",
       "\n",
       "    .dataframe tbody tr th {\n",
       "        vertical-align: top;\n",
       "    }\n",
       "\n",
       "    .dataframe thead th {\n",
       "        text-align: right;\n",
       "    }\n",
       "</style>\n",
       "<table border=\"1\" class=\"dataframe\">\n",
       "  <thead>\n",
       "    <tr style=\"text-align: right;\">\n",
       "      <th></th>\n",
       "      <th>date</th>\n",
       "      <th>value</th>\n",
       "      <th>year</th>\n",
       "      <th>month</th>\n",
       "    </tr>\n",
       "  </thead>\n",
       "  <tbody>\n",
       "    <tr>\n",
       "      <th>0</th>\n",
       "      <td>2016-05-19</td>\n",
       "      <td>19736</td>\n",
       "      <td>2016</td>\n",
       "      <td>May</td>\n",
       "    </tr>\n",
       "    <tr>\n",
       "      <th>1</th>\n",
       "      <td>2016-05-26</td>\n",
       "      <td>18060</td>\n",
       "      <td>2016</td>\n",
       "      <td>May</td>\n",
       "    </tr>\n",
       "    <tr>\n",
       "      <th>2</th>\n",
       "      <td>2016-05-27</td>\n",
       "      <td>19997</td>\n",
       "      <td>2016</td>\n",
       "      <td>May</td>\n",
       "    </tr>\n",
       "    <tr>\n",
       "      <th>3</th>\n",
       "      <td>2016-05-28</td>\n",
       "      <td>19044</td>\n",
       "      <td>2016</td>\n",
       "      <td>May</td>\n",
       "    </tr>\n",
       "    <tr>\n",
       "      <th>4</th>\n",
       "      <td>2016-05-29</td>\n",
       "      <td>20325</td>\n",
       "      <td>2016</td>\n",
       "      <td>May</td>\n",
       "    </tr>\n",
       "    <tr>\n",
       "      <th>...</th>\n",
       "      <td>...</td>\n",
       "      <td>...</td>\n",
       "      <td>...</td>\n",
       "      <td>...</td>\n",
       "    </tr>\n",
       "    <tr>\n",
       "      <th>1233</th>\n",
       "      <td>2019-11-24</td>\n",
       "      <td>138875</td>\n",
       "      <td>2019</td>\n",
       "      <td>Nov</td>\n",
       "    </tr>\n",
       "    <tr>\n",
       "      <th>1234</th>\n",
       "      <td>2019-11-29</td>\n",
       "      <td>171584</td>\n",
       "      <td>2019</td>\n",
       "      <td>Nov</td>\n",
       "    </tr>\n",
       "    <tr>\n",
       "      <th>1235</th>\n",
       "      <td>2019-11-30</td>\n",
       "      <td>141161</td>\n",
       "      <td>2019</td>\n",
       "      <td>Nov</td>\n",
       "    </tr>\n",
       "    <tr>\n",
       "      <th>1236</th>\n",
       "      <td>2019-12-01</td>\n",
       "      <td>142918</td>\n",
       "      <td>2019</td>\n",
       "      <td>Dec</td>\n",
       "    </tr>\n",
       "    <tr>\n",
       "      <th>1237</th>\n",
       "      <td>2019-12-03</td>\n",
       "      <td>158549</td>\n",
       "      <td>2019</td>\n",
       "      <td>Dec</td>\n",
       "    </tr>\n",
       "  </tbody>\n",
       "</table>\n",
       "<p>1238 rows × 4 columns</p>\n",
       "</div>"
      ],
      "text/plain": [
       "           date   value  year month\n",
       "0    2016-05-19   19736  2016   May\n",
       "1    2016-05-26   18060  2016   May\n",
       "2    2016-05-27   19997  2016   May\n",
       "3    2016-05-28   19044  2016   May\n",
       "4    2016-05-29   20325  2016   May\n",
       "...         ...     ...   ...   ...\n",
       "1233 2019-11-24  138875  2019   Nov\n",
       "1234 2019-11-29  171584  2019   Nov\n",
       "1235 2019-11-30  141161  2019   Nov\n",
       "1236 2019-12-01  142918  2019   Dec\n",
       "1237 2019-12-03  158549  2019   Dec\n",
       "\n",
       "[1238 rows x 4 columns]"
      ]
     },
     "execution_count": 50,
     "metadata": {},
     "output_type": "execute_result"
    }
   ],
   "source": [
    "df_box"
   ]
  },
  {
   "cell_type": "code",
   "execution_count": null,
   "id": "3c0bb170",
   "metadata": {},
   "outputs": [],
   "source": [
    "df_box.groupby()"
   ]
  },
  {
   "cell_type": "code",
   "execution_count": 23,
   "id": "0ee06cf2",
   "metadata": {},
   "outputs": [
    {
     "data": {
      "text/plain": [
       "<AxesSubplot:xlabel='year', ylabel='value'>"
      ]
     },
     "execution_count": 23,
     "metadata": {},
     "output_type": "execute_result"
    },
    {
     "data": {
      "image/png": "[encoded data removed]",
      "text/plain": [
       "<Figure size 432x288 with 1 Axes>"
      ]
     },
     "metadata": {
      "needs_background": "light"
     },
     "output_type": "display_data"
    }
   ],
   "source": [
    "sns.boxplot(x='year',y='value', data=df_box)"
   ]
  },
  {
   "cell_type": "code",
   "execution_count": 25,
   "id": "7786d529",
   "metadata": {},
   "outputs": [
    {
     "data": {
      "text/plain": [
       "<AxesSubplot:xlabel='month', ylabel='value'>"
      ]
     },
     "execution_count": 25,
     "metadata": {},
     "output_type": "execute_result"
    },
    {
     "data": {
      "image/png": "[encoded data removed]",
      "text/plain": [
       "<Figure size 432x288 with 1 Axes>"
      ]
     },
     "metadata": {
      "needs_background": "light"
     },
     "output_type": "display_data"
    }
   ],
   "source": [
    "sns.boxplot(x='month',y='value', data=df_box)"
   ]
  },
  {
   "cell_type": "code",
   "execution_count": 26,
   "id": "b1d3fee1",
   "metadata": {},
   "outputs": [
    {
     "data": {
      "image/png": "[encoded data removed]",
      "text/plain": [
       "<Figure size 432x288 with 2 Axes>"
      ]
     },
     "metadata": {
      "needs_background": "light"
     },
     "output_type": "display_data"
    }
   ],
   "source": [
    "fig, axis=plt.subplots(1,2)"
   ]
  },
  {
   "cell_type": "code",
   "execution_count": 39,
   "id": "4d1866a7",
   "metadata": {},
   "outputs": [
    {
     "data": {
      "text/plain": [
       "Text(0.5, 1.0, 'Your wise Box Plot(Seasonality)')"
      ]
     },
     "execution_count": 39,
     "metadata": {},
     "output_type": "execute_result"
    },
    {
     "data": {
      "image/png": "[encoded data removed]",
      "text/plain": [
       "<Figure size 1296x432 with 2 Axes>"
      ]
     },
     "metadata": {
      "needs_background": "light"
     },
     "output_type": "display_data"
    }
   ],
   "source": [
    "fig, axis=plt.subplots(1,2)\n",
    "fig.set_size_inches(18,6)\n",
    "sns.boxplot(x='year',y='value', data=df_box,ax=axis[0]).set(\n",
    "    xlabel='Year', ylabel='Page Views')\n",
    "sns.boxplot(x='month', y='value', data=df_box,\n",
    "           order=(['Jan','Feb','Mar','Apr','May','Jun','Jul',\n",
    "                   'Aug','Sep','Oct','Nov','Dec']),\n",
    "           ax= axis[1]).set(xlabel='Months', ylabel='Page Views')\n",
    "axis[0].set_title('Your wise Box Plot(Trend)')\n",
    "axis[1].set_title('Your wise Box Plot(Seasonality)')"
   ]
  },
  {
   "cell_type": "code",
   "execution_count": null,
   "id": "5079704b",
   "metadata": {},
   "outputs": [],
   "source": []
  }
 ],
 "metadata": {
  "kernelspec": {
   "display_name": "Python 3 (ipykernel)",
   "language": "python",
   "name": "python3"
  },
  "language_info": {
   "codemirror_mode": {
    "name": "ipython",
    "version": 3
   },
   "file_extension": ".py",
   "mimetype": "text/x-python",
   "name": "python",
   "nbconvert_exporter": "python",
   "pygments_lexer": "ipython3",
   "version": "3.9.5"
  }
 },
 "nbformat": 4,
 "nbformat_minor": 5
}
